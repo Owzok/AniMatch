{
 "cells": [
  {
   "cell_type": "code",
   "execution_count": 16,
   "metadata": {},
   "outputs": [],
   "source": [
    "import numpy as np \n",
    "import pandas as pd\n",
    "from sklearn.metrics.pairwise import cosine_similarity\n",
    "from sklearn.preprocessing import MinMaxScaler\n",
    "import nltk\n",
    "from nltk.corpus import stopwords\n",
    "from nltk.tokenize import word_tokenize\n",
    "import re\n",
    "from sklearn.feature_extraction.text import TfidfVectorizer"
   ]
  },
  {
   "cell_type": "code",
   "execution_count": 17,
   "metadata": {},
   "outputs": [],
   "source": [
    "def preprocess_text(text):\n",
    "    # Ensure that the input is a string\n",
    "    if isinstance(text, str):\n",
    "        # Tokenize the text into words\n",
    "        words = word_tokenize(text)\n",
    "        \n",
    "        # Apply re.sub to each word individually\n",
    "        cleaned_words = [re.sub('[^A-Za-z0-9]+', '', word) for word in words]\n",
    "        \n",
    "        # Remove stopwords\n",
    "        stop_words = set(stopwords.words('english'))\n",
    "        cleaned_words = [word for word in cleaned_words if word not in stop_words]\n",
    "        \n",
    "        # Join the cleaned words with a space\n",
    "        processed_text = ' '.join(cleaned_words)\n",
    "        return processed_text\n",
    "    else:\n",
    "        return text  # Return the input as is if it's not a string\n",
    "\n",
    "#cf['sypnopsis'] = cf['sypnopsis'].apply(preprocess_text)\n",
    "#cf"
   ]
  },
  {
   "cell_type": "code",
   "execution_count": 90,
   "metadata": {},
   "outputs": [],
   "source": [
    "class Content_Categorical:\n",
    "    def __init__(self):\n",
    "        cf = pd.read_csv(\"anime_with_synopsis.csv\")\n",
    "        cf.drop([\"Score\"], axis=1, inplace=True)\n",
    "        cf['Genres'] = cf['Genres'].apply(lambda x: x.replace(\",\", \"\").lower())\n",
    "        cf['sypnopsis'] = cf['sypnopsis'].apply(lambda x: str(x).replace(\",\", \"\").lower())\n",
    "        cf['sypnopsis'] = cf['sypnopsis'].apply(preprocess_text)\n",
    "\n",
    "        cf['tags'] = cf['Genres'] + cf['sypnopsis']\n",
    "        cf.drop(['sypnopsis', 'Genres'], axis=1, inplace=True)\n",
    "        self.cf = cf\n",
    "        tfidf_vectorizer = TfidfVectorizer(max_features=20000, stop_words='english')\n",
    "        tfidf_vectors = tfidf_vectorizer.fit_transform(cf['tags'])\n",
    "        self.similarity = cosine_similarity(tfidf_vectors)\n",
    "    \n",
    "    def recommend(self, title):\n",
    "        anime_id = self.cf[self.cf['Name'] == title]['MAL_ID'].values[0]  # Get MAL_ID\n",
    "\n",
    "        if anime_id is not None:\n",
    "            anime_index = self.cf[self.cf['MAL_ID'] == anime_id].index[0]\n",
    "            distances = self.similarity[anime_index]\n",
    "            anime_list = sorted(list(enumerate(distances)), reverse=True, key=lambda x: x[1])[1:6]\n",
    "\n",
    "#            for i in anime_list:\n",
    "#                anime_name = self.cf.iloc[i[0]]['Name']\n",
    "#                print(f'{anime_name}: {i[1]}')  # Print anime name and similarity score\n",
    "\n",
    "            recommended_anime_data = [(self.cf.iloc[i[0]]['MAL_ID'], i[1]) for i in anime_list]\n",
    "\n",
    "            return recommended_anime_data\n",
    "        else:\n",
    "            print(\"Anime not found in the dataset\")\n",
    "            return None\n"
   ]
  },
  {
   "cell_type": "code",
   "execution_count": 87,
   "metadata": {},
   "outputs": [],
   "source": [
    "df = pd.read_csv(\"anime.csv\")"
   ]
  },
  {
   "cell_type": "code",
   "execution_count": 91,
   "metadata": {},
   "outputs": [],
   "source": [
    "cc = Content_Categorical()"
   ]
  },
  {
   "cell_type": "code",
   "execution_count": 92,
   "metadata": {},
   "outputs": [
    {
     "name": "stdout",
     "output_type": "stream",
     "text": [
      "Tengen Toppa Gurren Lagann: Ore no Gurren wa Pikka-Pika!!: 0.2695082677460388\n",
      "Nagisa: 0.26602913315228793\n",
      "Tengen Toppa Gurren Lagann: Mitee Mono wa Miteen da!!: 0.24622181795535764\n",
      "Blue Remains: 0.17504351696649048\n",
      "Nagi no Asu kara: 0.14075403611151388\n"
     ]
    },
    {
     "data": {
      "text/plain": [
       "[(10622, 0.2695082677460388),\n",
       " (32776, 0.26602913315228793),\n",
       " (3352, 0.24622181795535764),\n",
       " (4733, 0.17504351696649048),\n",
       " (16067, 0.14075403611151388)]"
      ]
     },
     "execution_count": 92,
     "metadata": {},
     "output_type": "execute_result"
    }
   ],
   "source": [
    "cc.recommend(\"Tengen Toppa Gurren Lagann\")"
   ]
  },
  {
   "cell_type": "code",
   "execution_count": 93,
   "metadata": {},
   "outputs": [
    {
     "name": "stdout",
     "output_type": "stream",
     "text": [
      "Nisemonogatari: 0.4483851894978049\n",
      "Nekomonogatari: Kuro: 0.4347018286480494\n",
      "Owarimonogatari 2nd Season: 0.43256660677276476\n",
      "Zoku Owarimonogatari: 0.3461945739952347\n",
      "Kizumonogatari III: Reiketsu-hen: 0.3403874616485157\n"
     ]
    },
    {
     "data": {
      "text/plain": [
       "[(11597, 0.4483851894978049),\n",
       " (15689, 0.4347018286480494),\n",
       " (35247, 0.43256660677276476),\n",
       " (36999, 0.3461945739952347),\n",
       " (31758, 0.3403874616485157)]"
      ]
     },
     "execution_count": 93,
     "metadata": {},
     "output_type": "execute_result"
    }
   ],
   "source": [
    "cc.recommend(\"Bakemonogatari\")"
   ]
  },
  {
   "cell_type": "code",
   "execution_count": null,
   "metadata": {},
   "outputs": [
    {
     "name": "stdout",
     "output_type": "stream",
     "text": [
      "(785, 0.35355764771870335)\n",
      "Dragon Ball Movie 3: Makafushigi Daibouken\n",
      "(3786, 0.35275410495008563)\n",
      "Dragon Ball Kai\n",
      "(193, 0.2946085406346619)\n",
      "Dragon Ball GT\n",
      "(458, 0.2922438253326253)\n",
      "Dragon Ball Movie 1: Shen Long no Densetsu\n",
      "(716, 0.28544348546307197)\n",
      "Dragon Ball Z\n"
     ]
    },
    {
     "data": {
      "text/plain": [
       "[(785, 0.35355764771870335),\n",
       " (3786, 0.35275410495008563),\n",
       " (193, 0.2946085406346619),\n",
       " (458, 0.2922438253326253),\n",
       " (716, 0.28544348546307197)]"
      ]
     },
     "execution_count": 33,
     "metadata": {},
     "output_type": "execute_result"
    }
   ],
   "source": [
    "cc.recommend(\"Dragon Ball\")"
   ]
  }
 ],
 "metadata": {
  "kernelspec": {
   "display_name": "Python 3",
   "language": "python",
   "name": "python3"
  },
  "language_info": {
   "codemirror_mode": {
    "name": "ipython",
    "version": 3
   },
   "file_extension": ".py",
   "mimetype": "text/x-python",
   "name": "python",
   "nbconvert_exporter": "python",
   "pygments_lexer": "ipython3",
   "version": "3.10.10"
  }
 },
 "nbformat": 4,
 "nbformat_minor": 2
}
