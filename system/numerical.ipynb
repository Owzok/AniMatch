{
 "cells": [
  {
   "cell_type": "code",
   "execution_count": 1,
   "metadata": {},
   "outputs": [],
   "source": [
    "import numpy as np \n",
    "import pandas as pd\n",
    "from sklearn.metrics.pairwise import cosine_similarity\n",
    "from sklearn.preprocessing import MinMaxScaler"
   ]
  },
  {
   "cell_type": "code",
   "execution_count": 28,
   "metadata": {},
   "outputs": [],
   "source": [
    "class Content_Numerical:\n",
    "    def __init__(self):\n",
    "        df = pd.read_csv(\"anime.csv\")\n",
    "        df.set_index(\"MAL_ID\", inplace=True)\n",
    "        df = df.iloc[:,:20]\n",
    "        df.drop(['Japanese name', 'English name', 'Rating', 'Duration', 'Premiered', 'Aired'], axis=1, inplace=True)\n",
    "        self.df = df\n",
    "        df2 = pd.get_dummies(df, columns=['Type', 'Source'])\n",
    "        df2.drop([\"Name\", \"Genres\", \"Producers\", \"Licensors\", \"Studios\"], axis=1, inplace=True)\n",
    "        df2 = df2[df2.Score != 'Unknown']\n",
    "        df2 = df2[df2.Episodes != 'Unknown']\n",
    "        df2.drop([\"Ranked\"], axis=1 ,inplace=True)\n",
    "        scaler = MinMaxScaler()\n",
    "        df3 = scaler.fit_transform(df2)\n",
    "        df3 = pd.DataFrame(df3, columns=df2.columns, index=df2.index)\n",
    "        df3.drop([\"Source_Digital manga\", \"Source_Other\", \"Source_Picture book\", \"Source_Radio\", \"Source_Unknown\", \"Type_Unknown\", \"Watching\"], axis=1, inplace=True)\n",
    "        self.df3 = df3\n",
    "\n",
    "    def recommend(self, n_id):\n",
    "        anime_1_features = self.df3.loc[n_id].values.reshape(1, -1)\n",
    "        similarities = cosine_similarity(self.df3, anime_1_features)\n",
    "\n",
    "        similarities = pd.Series(similarities.flatten(), index=self.df3.index)\n",
    "\n",
    "        recommended_anime = similarities.sort_values(ascending=False)\n",
    "\n",
    "        recommended_anime = recommended_anime[1:]\n",
    "\n",
    "        print(f\"Top Recommended Anime for MAL_ID {self.df.loc[n_id]['Name']}:\\n\")\n",
    "        #print(recommended_anime.head(10))  # Print the top 10 recommendations\n",
    "\n",
    "        for i in recommended_anime.iloc[:10].index:\n",
    "            print(self.df.loc[i]['Name'])\n",
    "\n",
    "\n",
    "        return recommended_anime\n"
   ]
  },
  {
   "cell_type": "code",
   "execution_count": 29,
   "metadata": {},
   "outputs": [],
   "source": [
    "cc = Content_Numerical()"
   ]
  },
  {
   "cell_type": "code",
   "execution_count": 32,
   "metadata": {},
   "outputs": [
    {
     "name": "stdout",
     "output_type": "stream",
     "text": [
      "Top Recommended Anime for MAL_ID Mawaru Penguindrum:\n",
      "\n",
      "Space☆Dandy\n",
      "Wolf's Rain\n",
      "Hanasaku Iroha\n",
      "Carole & Tuesday\n",
      "Tokyo Magnitude 8.0\n",
      "Id:Invaded\n",
      "Tiger & Bunny\n",
      "Mobile Suit Gundam 00\n",
      "Panty & Stocking with Garterbelt\n",
      "Texhnolyze\n"
     ]
    },
    {
     "data": {
      "text/plain": [
       "MAL_ID\n",
       "20057    0.999924\n",
       "202      0.999909\n",
       "9289     0.999884\n",
       "37435    0.999880\n",
       "6211     0.999832\n",
       "           ...   \n",
       "1345     0.067214\n",
       "9342     0.064974\n",
       "5569     0.026323\n",
       "413      0.021656\n",
       "3287     0.003874\n",
       "Length: 12315, dtype: float64"
      ]
     },
     "execution_count": 32,
     "metadata": {},
     "output_type": "execute_result"
    }
   ],
   "source": [
    "cc.recommend(10721)"
   ]
  }
 ],
 "metadata": {
  "kernelspec": {
   "display_name": "Python 3",
   "language": "python",
   "name": "python3"
  },
  "language_info": {
   "codemirror_mode": {
    "name": "ipython",
    "version": 3
   },
   "file_extension": ".py",
   "mimetype": "text/x-python",
   "name": "python",
   "nbconvert_exporter": "python",
   "pygments_lexer": "ipython3",
   "version": "3.10.10"
  }
 },
 "nbformat": 4,
 "nbformat_minor": 2
}
