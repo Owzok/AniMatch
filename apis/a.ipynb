{
 "cells": [
  {
   "cell_type": "code",
   "execution_count": 11,
   "metadata": {},
   "outputs": [],
   "source": [
    "import pandas as pd"
   ]
  },
  {
   "cell_type": "code",
   "execution_count": 13,
   "metadata": {},
   "outputs": [],
   "source": [
    "df = pd.read_csv(\"anime.csv\", index_col=\"MAL_ID\")\n",
    "synopsis = pd.read_csv(\"anime_with_synopsis.csv\", index_col=\"MAL_ID\")"
   ]
  },
  {
   "cell_type": "code",
   "execution_count": 16,
   "metadata": {},
   "outputs": [
    {
     "data": {
      "text/html": [
       "<div>\n",
       "<style scoped>\n",
       "    .dataframe tbody tr th:only-of-type {\n",
       "        vertical-align: middle;\n",
       "    }\n",
       "\n",
       "    .dataframe tbody tr th {\n",
       "        vertical-align: top;\n",
       "    }\n",
       "\n",
       "    .dataframe thead th {\n",
       "        text-align: right;\n",
       "    }\n",
       "</style>\n",
       "<table border=\"1\" class=\"dataframe\">\n",
       "  <thead>\n",
       "    <tr style=\"text-align: right;\">\n",
       "      <th></th>\n",
       "      <th>Name</th>\n",
       "      <th>Score</th>\n",
       "      <th>Genres</th>\n",
       "      <th>sypnopsis</th>\n",
       "    </tr>\n",
       "    <tr>\n",
       "      <th>MAL_ID</th>\n",
       "      <th></th>\n",
       "      <th></th>\n",
       "      <th></th>\n",
       "      <th></th>\n",
       "    </tr>\n",
       "  </thead>\n",
       "  <tbody>\n",
       "    <tr>\n",
       "      <th>1</th>\n",
       "      <td>Cowboy Bebop</td>\n",
       "      <td>8.78</td>\n",
       "      <td>Action, Adventure, Comedy, Drama, Sci-Fi, Space</td>\n",
       "      <td>In the year 2071, humanity has colonized sever...</td>\n",
       "    </tr>\n",
       "  </tbody>\n",
       "</table>\n",
       "</div>"
      ],
      "text/plain": [
       "                Name Score                                           Genres  \\\n",
       "MAL_ID                                                                        \n",
       "1       Cowboy Bebop  8.78  Action, Adventure, Comedy, Drama, Sci-Fi, Space   \n",
       "\n",
       "                                                sypnopsis  \n",
       "MAL_ID                                                     \n",
       "1       In the year 2071, humanity has colonized sever...  "
      ]
     },
     "execution_count": 16,
     "metadata": {},
     "output_type": "execute_result"
    }
   ],
   "source": [
    "synopsis.head(1)"
   ]
  },
  {
   "cell_type": "code",
   "execution_count": 53,
   "metadata": {},
   "outputs": [
    {
     "data": {
      "text/plain": [
       "Index(['Name', 'Score', 'Genres', 'English name', 'Japanese name', 'Type',\n",
       "       'Episodes', 'Aired', 'Premiered', 'Producers', 'Licensors', 'Studios',\n",
       "       'Source', 'Duration', 'Rating', 'Ranked', 'Popularity', 'Members',\n",
       "       'Favorites', 'Watching', 'Completed', 'On-Hold', 'Dropped',\n",
       "       'Plan to Watch', 'Score-10', 'Score-9', 'Score-8', 'Score-7', 'Score-6',\n",
       "       'Score-5', 'Score-4', 'Score-3', 'Score-2', 'Score-1'],\n",
       "      dtype='object')"
      ]
     },
     "execution_count": 53,
     "metadata": {},
     "output_type": "execute_result"
    }
   ],
   "source": [
    "df.columns"
   ]
  },
  {
   "cell_type": "code",
   "execution_count": 19,
   "metadata": {},
   "outputs": [],
   "source": [
    "id = 10721"
   ]
  },
  {
   "cell_type": "code",
   "execution_count": 20,
   "metadata": {},
   "outputs": [
    {
     "data": {
      "text/plain": [
       "Name                                          Mawaru Penguindrum\n",
       "Score                                                       7.98\n",
       "Genres           Mystery, Comedy, Dementia, Psychological, Drama\n",
       "English name                                         Penguindrum\n",
       "Japanese name                                           輪るピングドラム\n",
       "Type                                                          TV\n",
       "Episodes                                                      24\n",
       "Aired                                Jul 8, 2011 to Dec 23, 2011\n",
       "Premiered                                            Summer 2011\n",
       "Producers        Starchild Records, Mainichi Broadcasting System\n",
       "Licensors                                       Sentai Filmworks\n",
       "Studios                                             Brain's Base\n",
       "Source                                                  Original\n",
       "Duration                                         24 min. per ep.\n",
       "Rating                            R - 17+ (violence & profanity)\n",
       "Ranked                                                     565.0\n",
       "Popularity                                                   588\n",
       "Members                                                   248060\n",
       "Favorites                                                   6711\n",
       "Watching                                                   15584\n",
       "Completed                                                 106107\n",
       "On-Hold                                                    13067\n",
       "Dropped                                                    11005\n",
       "Plan to Watch                                             102297\n",
       "Score-10                                                 15462.0\n",
       "Score-9                                                  21177.0\n",
       "Score-8                                                  25254.0\n",
       "Score-7                                                  17026.0\n",
       "Score-6                                                   7904.0\n",
       "Score-5                                                   3761.0\n",
       "Score-4                                                   1932.0\n",
       "Score-3                                                    769.0\n",
       "Score-2                                                    413.0\n",
       "Score-1                                                    446.0\n",
       "Name: 10721, dtype: object"
      ]
     },
     "execution_count": 20,
     "metadata": {},
     "output_type": "execute_result"
    }
   ],
   "source": [
    "df.loc[id]"
   ]
  },
  {
   "cell_type": "code",
   "execution_count": 51,
   "metadata": {},
   "outputs": [],
   "source": [
    "def get_length_text(id):\n",
    "    x = synopsis.loc[id].sypnopsis.split(\".\")\n",
    "    m_len = 0\n",
    "    f_text = []\n",
    "    for i in range(len(x)):\n",
    "        if m_len > 360:\n",
    "            break\n",
    "        m_len += len(x[i])\n",
    "        f_text.append(x[i])\n",
    "        print(m_len)\n",
    "    return \" \".join(str(item) for item in f_text)"
   ]
  },
  {
   "cell_type": "code",
   "execution_count": 52,
   "metadata": {},
   "outputs": [
    {
     "name": "stdout",
     "output_type": "stream",
     "text": [
      "175\n",
      "328\n",
      "532\n"
     ]
    },
    {
     "data": {
      "text/plain": [
       "\"For the Takakura family, destiny is an ever-spinning wheel, pointing passionately in their direction with equal tides of joy and sorrow before ticking on to the next wishmaker  With their parents gone, twin brothers Kanba and Shouma live alone with their beloved little sister Himari, whose poor health cannot decline any further  On the day Himari is given permission to temporarily leave the hospital, her brothers take her out to the aquarium to celebrate, where the family's supposed fate is brought forth with her sudden collapse\""
      ]
     },
     "execution_count": 52,
     "metadata": {},
     "output_type": "execute_result"
    }
   ],
   "source": [
    "get_length_text(id)"
   ]
  },
  {
   "cell_type": "code",
   "execution_count": 56,
   "metadata": {},
   "outputs": [],
   "source": [
    "fields = ['Name', 'Type', 'Episodes', 'Premiered', 'Studios', 'Rating']"
   ]
  },
  {
   "cell_type": "code",
   "execution_count": 58,
   "metadata": {},
   "outputs": [
    {
     "data": {
      "text/plain": [
       "Name                     Mawaru Penguindrum\n",
       "Type                                     TV\n",
       "Episodes                                 24\n",
       "Premiered                       Summer 2011\n",
       "Studios                        Brain's Base\n",
       "Rating       R - 17+ (violence & profanity)\n",
       "Name: 10721, dtype: object"
      ]
     },
     "execution_count": 58,
     "metadata": {},
     "output_type": "execute_result"
    }
   ],
   "source": [
    "filtered_data = df.loc[id, fields]\n",
    "filtered_data"
   ]
  },
  {
   "cell_type": "code",
   "execution_count": 60,
   "metadata": {},
   "outputs": [
    {
     "data": {
      "text/plain": [
       "{'Name': 'Mawaru Penguindrum',\n",
       " 'Type': 'TV',\n",
       " 'Episodes': '24',\n",
       " 'Premiered': 'Summer 2011',\n",
       " 'Studios': \"Brain's Base\",\n",
       " 'Rating': 'R - 17+ (violence & profanity)'}"
      ]
     },
     "execution_count": 60,
     "metadata": {},
     "output_type": "execute_result"
    }
   ],
   "source": [
    "result_dict = filtered_data.to_dict()\n",
    "result_dict"
   ]
  }
 ],
 "metadata": {
  "kernelspec": {
   "display_name": "Python 3",
   "language": "python",
   "name": "python3"
  },
  "language_info": {
   "codemirror_mode": {
    "name": "ipython",
    "version": 3
   },
   "file_extension": ".py",
   "mimetype": "text/x-python",
   "name": "python",
   "nbconvert_exporter": "python",
   "pygments_lexer": "ipython3",
   "version": "3.10.5"
  }
 },
 "nbformat": 4,
 "nbformat_minor": 2
}
